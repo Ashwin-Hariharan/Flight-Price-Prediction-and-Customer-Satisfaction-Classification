{
 "cells": [
  {
   "cell_type": "code",
   "execution_count": 3,
   "id": "eece6bd2-fefb-4c19-a4b2-6f22f11f7afc",
   "metadata": {},
   "outputs": [
    {
     "name": "stderr",
     "output_type": "stream",
     "text": [
      "C:\\Users\\ashwi\\AppData\\Local\\Temp\\ipykernel_3332\\1540047169.py:11: FutureWarning: A value is trying to be set on a copy of a DataFrame or Series through chained assignment using an inplace method.\n",
      "The behavior will change in pandas 3.0. This inplace method will never work because the intermediate object on which we are setting values always behaves as a copy.\n",
      "\n",
      "For example, when doing 'df[col].method(value, inplace=True)', try using 'df.method({col: value}, inplace=True)' or df[col] = df[col].method(value) instead, to perform the operation inplace on the original object.\n",
      "\n",
      "\n",
      "  passenger_satisfaction_df['Arrival Delay in Minutes'].fillna(passenger_satisfaction_df['Arrival Delay in Minutes'].mean(), inplace=True)\n"
     ]
    },
    {
     "name": "stdout",
     "output_type": "stream",
     "text": [
      "Flight Price dataset cleaned and saved as Flight_Price_Cleaned.csv\n",
      "Passenger Satisfaction dataset cleaned and saved as Passenger_Satisfaction_Cleaned.csv\n"
     ]
    }
   ],
   "source": [
    "# Import necessary libraries\n",
    "import pandas as pd\n",
    "import re\n",
    "\n",
    "# File paths\n",
    "passenger_satisfaction_path = r\"C:\\Users\\ashwi\\GUVI_Projects\\Flight Project\\Passenger_Satisfaction.csv\"\n",
    "passenger_satisfaction_df = pd.read_csv(passenger_satisfaction_path)\n",
    "\n",
    "# --- Passenger Satisfaction Dataset Preprocessing ---\n",
    "# Fill missing values in 'Arrival Delay in Minutes'\n",
    "passenger_satisfaction_df['Arrival Delay in Minutes'].fillna(passenger_satisfaction_df['Arrival Delay in Minutes'].mean(), inplace=True)\n",
    "\n",
    "# Encode the target variable ('satisfaction')\n",
    "passenger_satisfaction_df['satisfaction'] = passenger_satisfaction_df['satisfaction'].map({'satisfied': 'satisfied', 'neutral or dissatisfied': 'neutral or dissatisfied'})\n",
    "\n",
    "# One-hot encode categorical variables\n",
    "passenger_satisfaction_encoded = pd.get_dummies(passenger_satisfaction_df.drop(columns=['Unnamed: 0', 'id']), columns=['Gender', 'Customer Type', 'Type of Travel', 'Class'])\n",
    "\n",
    "# Save cleaned data\n",
    "passenger_satisfaction_encoded.to_csv(r\"C:\\Users\\ashwi\\GUVI_Projects\\Flight Project\\Passenger_Satisfaction_Cleaned.csv\", index=False)\n",
    "\n",
    "# Print confirmation\n",
    "print(\"Passenger Satisfaction dataset cleaned and saved as Passenger_Satisfaction_Cleaned.csv\")\n"
   ]
  },
  {
   "cell_type": "code",
   "execution_count": null,
   "id": "5ac9533b-a316-4dd3-b5b6-c49bf7315f0a",
   "metadata": {},
   "outputs": [],
   "source": []
  }
 ],
 "metadata": {
  "kernelspec": {
   "display_name": "Python 3 (ipykernel)",
   "language": "python",
   "name": "python3"
  },
  "language_info": {
   "codemirror_mode": {
    "name": "ipython",
    "version": 3
   },
   "file_extension": ".py",
   "mimetype": "text/x-python",
   "name": "python",
   "nbconvert_exporter": "python",
   "pygments_lexer": "ipython3",
   "version": "3.12.8"
  }
 },
 "nbformat": 4,
 "nbformat_minor": 5
}
